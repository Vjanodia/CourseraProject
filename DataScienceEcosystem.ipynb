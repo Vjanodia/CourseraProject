{
 "cells": [
  {
   "attachments": {},
   "cell_type": "markdown",
   "id": "91b7d167",
   "metadata": {},
   "source": [
    "# Data Science Tools and Ecosystem"
   ]
  },
  {
   "attachments": {},
   "cell_type": "markdown",
   "id": "33e2cfad",
   "metadata": {},
   "source": [
    "In this notebook, Data Science Tools and Ecosystem are summarized."
   ]
  },
  {
   "attachments": {},
   "cell_type": "markdown",
   "id": "8005c7ee",
   "metadata": {},
   "source": [
    "#### Objectives:\n",
    "- Listing popular languages for Data Science\n",
    "- Listing commonly used libraries used by Data Scientists\n",
    "- Listing Data Science tools\n",
    "- Evaluating basic arithmetic expressions\n"
   ]
  },
  {
   "attachments": {},
   "cell_type": "markdown",
   "id": "9e149104",
   "metadata": {},
   "source": [
    "#### Some of the popular languages that Data Scientists use are:\n",
    "1. Python\n",
    "2. R Studio\n",
    "3. SQL"
   ]
  },
  {
   "attachments": {},
   "cell_type": "markdown",
   "id": "375e8e9f",
   "metadata": {},
   "source": [
    "#### Some of the commonly used libraries used by Data Scientists include:\n",
    "1. Tensor Flow\n",
    "2. PyTorch\n",
    "3. Scikit-learn\n"
   ]
  },
  {
   "attachments": {},
   "cell_type": "markdown",
   "id": "45fee737",
   "metadata": {},
   "source": [
    "| Data Science Tools |\n",
    "| --- |\n",
    "| Apache Spark |\n",
    "| Apache Hadoop |\n",
    "| Tableau |"
   ]
  },
  {
   "attachments": {},
   "cell_type": "markdown",
   "id": "2867358b",
   "metadata": {},
   "source": [
    "### Below are a few examples of evaluating arithmetic expressions in Python"
   ]
  },
  {
   "cell_type": "code",
   "execution_count": 1,
   "id": "1b9858b3",
   "metadata": {},
   "outputs": [
    {
     "data": {
      "text/plain": [
       "17"
      ]
     },
     "execution_count": 1,
     "metadata": {},
     "output_type": "execute_result"
    }
   ],
   "source": [
    "#This is a simple arithmetic expression to multiply then add integers.\n",
    "(3*4)+5"
   ]
  },
  {
   "cell_type": "code",
   "execution_count": 2,
   "id": "315f91a4",
   "metadata": {
    "scrolled": true
   },
   "outputs": [
    {
     "name": "stdout",
     "output_type": "stream",
     "text": [
      "200 minutes is 3.3333333333333335 hours\n"
     ]
    }
   ],
   "source": [
    "#This will convert 200 minutes to hours by diving by 60\n",
    "minutes = 200\n",
    "hours = 200/60\n",
    "print(\"200 minutes is\",hours,\"hours\")"
   ]
  },
  {
   "attachments": {},
   "cell_type": "markdown",
   "id": "b29befa4",
   "metadata": {},
   "source": [
    "## Author\n",
    "Veda J."
   ]
  }
 ],
 "metadata": {
  "kernelspec": {
   "display_name": "Python 3 (ipykernel)",
   "language": "python",
   "name": "python3"
  },
  "language_info": {
   "codemirror_mode": {
    "name": "ipython",
    "version": 3
   },
   "file_extension": ".py",
   "mimetype": "text/x-python",
   "name": "python",
   "nbconvert_exporter": "python",
   "pygments_lexer": "ipython3",
   "version": "3.10.9"
  }
 },
 "nbformat": 4,
 "nbformat_minor": 5
}
